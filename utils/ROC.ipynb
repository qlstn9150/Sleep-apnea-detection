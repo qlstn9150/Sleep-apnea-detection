{
 "cells": [
  {
   "cell_type": "code",
   "execution_count": 3,
   "metadata": {},
   "outputs": [],
   "source": [
    "from cProfile import label\n",
    "import os\n",
    "\n",
    "import numpy as np\n",
    "import pandas as pd\n",
    "from sklearn.metrics import confusion_matrix, roc_curve, roc_auc_score, auc\n",
    "import matplotlib.pyplot as plt"
   ]
  },
  {
   "cell_type": "code",
   "execution_count": 1,
   "metadata": {},
   "outputs": [],
   "source": [
    "base_dir = \"output/\""
   ]
  },
  {
   "cell_type": "code",
   "execution_count": 26,
   "metadata": {},
   "outputs": [
    {
     "name": "stdout",
     "output_type": "stream",
     "text": [
      "       y_true   y_score subject  y_pred\n",
      "0         0.0  0.379953     x01   False\n",
      "1         0.0  0.318201     x01   False\n",
      "2         0.0  0.340491     x01   False\n",
      "3         0.0  0.400625     x01   False\n",
      "4         0.0  0.574584     x01    True\n",
      "...       ...       ...     ...     ...\n",
      "16940     0.0  0.010719     x35   False\n",
      "16941     0.0  0.004499     x35   False\n",
      "16942     0.0  0.090176     x35   False\n",
      "16943     0.0  0.097535     x35   False\n",
      "16944     0.0  0.103110     x35   False\n",
      "\n",
      "[16945 rows x 4 columns]\n"
     ]
    }
   ],
   "source": [
    "output = []\n",
    "df = pd.read_csv('output/LeNet.csv', header=0)\n",
    "df[\"y_pred\"] = df[\"y_score\"] > 0.5\n",
    "df.name = 'LeNet'\n",
    "output.append(df)\n",
    "output = pd.concat(output, axis=1)\n",
    "\n",
    "FP, TP, thresholds = roc_curve(df[\"y_true\"], df[\"y_score\"])\n"
   ]
  },
  {
   "cell_type": "code",
   "execution_count": 31,
   "metadata": {},
   "outputs": [
    {
     "data": {
      "image/png": "[encoded data removed]",
      "text/plain": [
       "<Figure size 432x288 with 1 Axes>"
      ]
     },
     "metadata": {
      "needs_background": "light"
     },
     "output_type": "display_data"
    },
    {
     "data": {
      "text/plain": [
       "<Figure size 432x288 with 0 Axes>"
      ]
     },
     "metadata": {},
     "output_type": "display_data"
    }
   ],
   "source": [
    "plt.plot(FP, TP, color='blue', label='ROC')\n",
    "plt.xlabel('False Positive Rate')\n",
    "plt.ylabel('True Positive Rate')\n",
    "plt.title('Receiver Operating Characteristic Curve')\n",
    "plt.show()\n",
    "plt.savefig('LeNet_ROC.png')"
   ]
  }
 ],
 "metadata": {
  "interpreter": {
   "hash": "ab9b1c5b525bb80e5e2c294315e655322e1b70a1f0771389433cc7d83abf2a89"
  },
  "kernelspec": {
   "display_name": "Python 3.6.13 ('sleep')",
   "language": "python",
   "name": "python3"
  },
  "language_info": {
   "codemirror_mode": {
    "name": "ipython",
    "version": 3
   },
   "file_extension": ".py",
   "mimetype": "text/x-python",
   "name": "python",
   "nbconvert_exporter": "python",
   "pygments_lexer": "ipython3",
   "version": "3.6.13"
  },
  "orig_nbformat": 4
 },
 "nbformat": 4,
 "nbformat_minor": 2
}
